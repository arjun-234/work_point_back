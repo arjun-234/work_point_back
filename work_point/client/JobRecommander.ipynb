{
 "cells": [
  {
   "cell_type": "code",
   "execution_count": 1,
   "id": "152a702a",
   "metadata": {},
   "outputs": [],
   "source": [
    "import pandas as pd\n",
    "from sklearn.metrics.pairwise import sigmoid_kernel\n",
    "from sklearn.feature_extraction.text import CountVectorizer\n",
    "from sklearn.metrics.pairwise import sigmoid_kernel"
   ]
  },
  {
   "cell_type": "code",
   "execution_count": 2,
   "id": "0b925066",
   "metadata": {},
   "outputs": [],
   "source": [
    "import MySQLdb\n",
    "import MySQLdb.cursors\n",
    " \n",
    "database = MySQLdb.connect(host = \"work-point.cckrazp59xhr.ap-south-1.rds.amazonaws.com\", user = \"work_admin\", passwd = \"YpFyCwcdpKAswevhXMjy\", db = \"work_point_db\", cursorclass=MySQLdb.cursors.DictCursor)\n",
    "cursor = database.cursor()"
   ]
  },
  {
   "cell_type": "code",
   "execution_count": 3,
   "id": "8cd7b9c2",
   "metadata": {},
   "outputs": [],
   "source": [
    "cursor.execute(\"SELECT * FROM client_job\")\n",
    "job_list = cursor.fetchall()\n",
    "job_list = list(job_list)"
   ]
  },
  {
   "cell_type": "code",
   "execution_count": 4,
   "id": "b0eb0524",
   "metadata": {},
   "outputs": [],
   "source": [
    "cursor.execute(\"SELECT * FROM client_skill\")\n",
    "skill_list = cursor.fetchall()\n",
    "skill_list = list(skill_list)"
   ]
  },
  {
   "cell_type": "code",
   "execution_count": 5,
   "id": "59ca198e",
   "metadata": {},
   "outputs": [],
   "source": [
    "cursor.execute(\"SELECT * FROM client_skill_job\")\n",
    "job_skill_list = cursor.fetchall()\n",
    "job_skill_list = list(job_skill_list)"
   ]
  },
  {
   "cell_type": "code",
   "execution_count": 6,
   "id": "2bc47288",
   "metadata": {},
   "outputs": [],
   "source": [
    "job_df = pd.DataFrame.from_dict(job_list)\n",
    "skill_df =  pd.DataFrame.from_dict(skill_list)\n",
    "skill_df = skill_df.rename(columns={'id':'skill_id'})\n",
    "skill_df = skill_df.rename(columns={'name':'skill_name'})\n",
    "job_skill_df = pd.DataFrame.from_dict(job_skill_list)\n",
    "job_skill_df = job_skill_df.drop(['id'],axis='columns')\n",
    "job_df = job_df.rename(columns={'id':'job_id'})"
   ]
  },
  {
   "cell_type": "code",
   "execution_count": 7,
   "id": "caa476b0",
   "metadata": {},
   "outputs": [],
   "source": [
    "job_skill_combined = pd.merge(job_df, job_skill_df, on='job_id')"
   ]
  },
  {
   "cell_type": "code",
   "execution_count": 8,
   "id": "309b7d73",
   "metadata": {},
   "outputs": [],
   "source": [
    "combine_df = pd.merge(job_skill_combined,skill_df, on='skill_id')"
   ]
  },
  {
   "cell_type": "code",
   "execution_count": 9,
   "id": "57048fe8",
   "metadata": {},
   "outputs": [],
   "source": [
    "combine_df.drop(['is_completed','client_id','price','posted_date','skill_id'],axis='columns',inplace=True)"
   ]
  },
  {
   "cell_type": "code",
   "execution_count": 10,
   "id": "95763ec0",
   "metadata": {},
   "outputs": [],
   "source": [
    "username = 'arjun007'\n",
    "skills = ['video']"
   ]
  },
  {
   "cell_type": "code",
   "execution_count": 11,
   "id": "9e0568ff",
   "metadata": {},
   "outputs": [],
   "source": [
    "new_row = pd.DataFrame.from_dict({'title':username, 'skill_name':skills})\n",
    "combine_df = pd.concat([combine_df, new_row])"
   ]
  },
  {
   "cell_type": "code",
   "execution_count": 12,
   "id": "44c5cdc4",
   "metadata": {},
   "outputs": [],
   "source": [
    "combined_skill_list=[]\n",
    "for i in combine_df['title']:\n",
    "    temp = list(combine_df[combine_df['title']==i]['skill_name'])\n",
    "    combined_skill_list.append(temp)"
   ]
  },
  {
   "cell_type": "code",
   "execution_count": 13,
   "id": "ff254eef",
   "metadata": {},
   "outputs": [],
   "source": [
    "combine_df['skill_list'] = combined_skill_list"
   ]
  },
  {
   "cell_type": "code",
   "execution_count": 14,
   "id": "673e95c9",
   "metadata": {},
   "outputs": [],
   "source": [
    "combine_df.drop(['skill_name'],axis='columns',inplace=True)"
   ]
  },
  {
   "cell_type": "code",
   "execution_count": 15,
   "id": "6b12d264",
   "metadata": {},
   "outputs": [],
   "source": [
    "combine_df.drop_duplicates(subset=['title'],keep=\"first\",inplace=True)"
   ]
  },
  {
   "cell_type": "code",
   "execution_count": 16,
   "id": "3a338dfe",
   "metadata": {},
   "outputs": [],
   "source": [
    "def create_soup(x):\n",
    "    return ' '.join(x['skill_list'])"
   ]
  },
  {
   "cell_type": "code",
   "execution_count": 17,
   "id": "b74f5e5a",
   "metadata": {},
   "outputs": [],
   "source": [
    "combine_df['soup'] = combine_df.apply(create_soup, axis=1)"
   ]
  },
  {
   "cell_type": "code",
   "execution_count": 18,
   "id": "1f9c3edf",
   "metadata": {},
   "outputs": [],
   "source": [
    "count = CountVectorizer(stop_words='english')\n",
    "count_matrix = count.fit_transform(combine_df['soup'])"
   ]
  },
  {
   "cell_type": "code",
   "execution_count": 19,
   "id": "ae324331",
   "metadata": {},
   "outputs": [],
   "source": [
    "combine_df = combine_df.reset_index()"
   ]
  },
  {
   "cell_type": "code",
   "execution_count": 20,
   "id": "6212c236",
   "metadata": {},
   "outputs": [],
   "source": [
    "indices = pd.Series(combine_df.index, index=combine_df['title'])"
   ]
  },
  {
   "cell_type": "code",
   "execution_count": 21,
   "id": "0a7f2ec5",
   "metadata": {},
   "outputs": [],
   "source": [
    "sig = sigmoid_kernel(count_matrix, count_matrix)"
   ]
  },
  {
   "cell_type": "code",
   "execution_count": 22,
   "id": "9ba5cadc",
   "metadata": {},
   "outputs": [],
   "source": [
    "def give_rec(title, sig=sig):\n",
    "    idx = indices[title]\n",
    "    sig_scores = list(enumerate(sig[idx]))\n",
    "    sig_scores = sorted(sig_scores, key=lambda x: x[1], reverse=True)\n",
    "    sig_scores = sig_scores[:10]\n",
    "    job_indices = [i[0] for i in sig_scores]\n",
    "    return combine_df['job_id'].iloc[job_indices].drop(combine_df[combine_df['title'] == username].index[0]).astype(int)"
   ]
  },
  {
   "cell_type": "code",
   "execution_count": 23,
   "id": "29f7d4f7",
   "metadata": {},
   "outputs": [
    {
     "data": {
      "text/plain": [
       "[5, 4]"
      ]
     },
     "execution_count": 23,
     "metadata": {},
     "output_type": "execute_result"
    }
   ],
   "source": [
    "list(give_rec('arjun007'))"
   ]
  },
  {
   "cell_type": "code",
   "execution_count": null,
   "id": "0764e090",
   "metadata": {},
   "outputs": [],
   "source": []
  }
 ],
 "metadata": {
  "kernelspec": {
   "display_name": "Python 3 (ipykernel)",
   "language": "python",
   "name": "python3"
  },
  "language_info": {
   "codemirror_mode": {
    "name": "ipython",
    "version": 3
   },
   "file_extension": ".py",
   "mimetype": "text/x-python",
   "name": "python",
   "nbconvert_exporter": "python",
   "pygments_lexer": "ipython3",
   "version": "3.10.2"
  }
 },
 "nbformat": 4,
 "nbformat_minor": 5
}
